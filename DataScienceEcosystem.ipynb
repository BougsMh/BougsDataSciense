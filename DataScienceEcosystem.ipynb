{
 "cells": [
  {
   "cell_type": "markdown",
   "id": "9c2b7dd0-4d15-4060-9295-e05831ca9f29",
   "metadata": {},
   "source": [
    "# H1 : Data Science Tools and Ecosystem"
   ]
  },
  {
   "cell_type": "markdown",
   "id": "752b4c77-ba07-4abe-bfd6-b2d54c591e86",
   "metadata": {},
   "source": [
    "# In this notebook, Data Science Tools and Ecosystem are summarized."
   ]
  },
  {
   "cell_type": "markdown",
   "id": "91322292-ad2b-4c85-b472-f5b3638f75f5",
   "metadata": {},
   "source": [
    "#  **Objectives:**\n",
    "- PYTHON\n",
    "- R\n",
    "- SQL"
   ]
  },
  {
   "cell_type": "markdown",
   "id": "e0aaeaf2-bd76-47df-b772-9d72f6753be7",
   "metadata": {},
   "source": [
    "# Some of the popular languages that Data Scientists use are:\n",
    "1. PYTHON\n",
    "2. R\n",
    "3. SQL\n",
    "4. JAVA\n",
    "5. SCALA\n",
    "6. C++\n",
    "7. JULIA"
   ]
  },
  {
   "cell_type": "markdown",
   "id": "5bbbb04c-b7ca-4c35-b642-efa07aa47e4e",
   "metadata": {},
   "source": [
    "# Some of the commonly used libraries used by Data Scientists include:\n",
    "1. PANDA\n",
    "2. NUMPY\n",
    "3. SCIPY\n",
    "4. MATPLOTLIB\n",
    "5. TENSORFLOW\n",
    "6. PYTORCH\n",
    "7. KERAS\n",
    "8. SCIKIT-LEARN"
   ]
  },
  {
   "cell_type": "markdown",
   "id": "016aa853-50db-4b6e-ba01-6d5e73226401",
   "metadata": {},
   "source": [
    "### Below are a few examples of evaluating arithmetic expressions in Python."
   ]
  },
  {
   "cell_type": "markdown",
   "id": "731c3b3b-0057-4996-aa73-09267b391344",
   "metadata": {},
   "source": [
    "# Development environment open source tools used in data science.\n",
    "|Data Science Tools|\n",
    "|------------------|\n",
    "|RSTUDIO|\n",
    "|JUPYTER NOTEBOOKS|\n",
    "|ANACONDA|"
   ]
  },
  {
   "cell_type": "markdown",
   "id": "d21e0ea2-871d-43cd-b1aa-ccf2e80feb89",
   "metadata": {},
   "source": [
    "### Below are a few examples of evaluating arithmetic expressions in Python."
   ]
  },
  {
   "cell_type": "code",
   "execution_count": 4,
   "id": "f558f60d-63d9-4074-a5a3-e00e737640ed",
   "metadata": {},
   "outputs": [
    {
     "name": "stdout",
     "output_type": "stream",
     "text": [
      "17\n"
     ]
    }
   ],
   "source": [
    "# This a simple arithmetic expression to mutiply then add integers.\n",
    "print ((3*4)+5)"
   ]
  },
  {
   "cell_type": "code",
   "execution_count": 5,
   "id": "922be503-5a54-47e7-9f3e-bdf3d80e9490",
   "metadata": {},
   "outputs": [
    {
     "name": "stdout",
     "output_type": "stream",
     "text": [
      "3.3333333333333335\n"
     ]
    }
   ],
   "source": [
    "# This will convert 200 minutes to hours by diving by 60.\n",
    "print (200/60)"
   ]
  },
  {
   "cell_type": "markdown",
   "id": "af1286ca-4d07-466f-bc6f-c55e683e3f21",
   "metadata": {},
   "source": [
    "## Author\n",
    "Mohammed BOUGHABA"
   ]
  }
 ],
 "metadata": {
  "kernelspec": {
   "display_name": "Python 3 (ipykernel)",
   "language": "python",
   "name": "python3"
  },
  "language_info": {
   "codemirror_mode": {
    "name": "ipython",
    "version": 3
   },
   "file_extension": ".py",
   "mimetype": "text/x-python",
   "name": "python",
   "nbconvert_exporter": "python",
   "pygments_lexer": "ipython3",
   "version": "3.11.7"
  }
 },
 "nbformat": 4,
 "nbformat_minor": 5
}
